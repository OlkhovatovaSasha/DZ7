{
 "cells": [
  {
   "cell_type": "markdown",
   "metadata": {},
   "source": [
    "Задание 1\n",
    "Напишите функцию date_range, которая возвращает список дней между датами start_date и end_date. \n",
    "Даты должны вводиться в формате YYYY-MM-DD."
   ]
  },
  {
   "cell_type": "code",
   "execution_count": 94,
   "metadata": {},
   "outputs": [],
   "source": [
    "def date_range():\n",
    "    from datetime import datetime\n",
    "    from datetime import timedelta\n",
    "    list_day = []\n",
    "    \n",
    "    start_date = str(input(\"Дата начала: \"))\n",
    "    end_date = str(input(\"Дата конца: \"))\n",
    "\n",
    "    start_date_dt = datetime.strptime(start_date, '%Y-%m-%d' )\n",
    "    end_date_dt = datetime.strptime(end_date, '%Y-%m-%d' )\n",
    "        \n",
    "    while start_date_dt.strftime('%Y-%m-%d') <= end_date:\n",
    "            \n",
    "        list_day.append(start_date_dt.day)\n",
    "        start_date_dt += timedelta(days=1)\n",
    "        \n",
    "    print(list_day)"
   ]
  },
  {
   "cell_type": "code",
   "execution_count": 95,
   "metadata": {},
   "outputs": [
    {
     "name": "stdout",
     "output_type": "stream",
     "text": [
      "Дата начала: 2020-02-02\n",
      "Дата конца: 2020-05-06\n",
      "[2, 3, 4, 5, 6, 7, 8, 9, 10, 11, 12, 13, 14, 15, 16, 17, 18, 19, 20, 21, 22, 23, 24, 25, 26, 27, 28, 29, 1, 2, 3, 4, 5, 6, 7, 8, 9, 10, 11, 12, 13, 14, 15, 16, 17, 18, 19, 20, 21, 22, 23, 24, 25, 26, 27, 28, 29, 30, 31, 1, 2, 3, 4, 5, 6, 7, 8, 9, 10, 11, 12, 13, 14, 15, 16, 17, 18, 19, 20, 21, 22, 23, 24, 25, 26, 27, 28, 29, 30, 1, 2, 3, 4, 5, 6]\n"
     ]
    }
   ],
   "source": [
    "date_range()"
   ]
  },
  {
   "cell_type": "markdown",
   "metadata": {},
   "source": [
    "Задание 2\n",
    "Дополните функцию из первого задания проверкой на корректность дат. \n",
    "В случае неверного формата или если start_date > end_date должен возвращаться пустой список."
   ]
  },
  {
   "cell_type": "code",
   "execution_count": 96,
   "metadata": {},
   "outputs": [],
   "source": [
    "def date_range_new():\n",
    "    from datetime import datetime\n",
    "    from datetime import timedelta\n",
    "    list_day = []\n",
    "    \n",
    "    start_date = str(input(\"Дата начала: \"))\n",
    "    end_date = str(input(\"Дата конца: \"))\n",
    "\n",
    "    \n",
    "    \n",
    "    try:\n",
    "        if start_date_dt.strftime('%Y-%m-%d') <= start_date_dt.strftime('%Y-%m-%d'):\n",
    "            \n",
    "            start_date_dt = datetime.strptime(start_date, '%Y-%m-%d' )\n",
    "            end_date_dt = datetime.strptime(end_date, '%Y-%m-%d' )\n",
    "        \n",
    "            while start_date_dt.strftime('%Y-%m-%d') <= end_date:\n",
    "            \n",
    "                list_day.append(start_date_dt.day)\n",
    "                start_date_dt += timedelta(days=1)\n",
    "        \n",
    "            print(list_day)\n",
    "        else:\n",
    "            print(list_day)\n",
    "\n",
    "    except:\n",
    "        print(list_day)\n"
   ]
  },
  {
   "cell_type": "code",
   "execution_count": 108,
   "metadata": {},
   "outputs": [],
   "source": [
    "def date(stream):\n",
    "    from datetime import datetime\n",
    "    \n",
    "    for date in stream:\n",
    "        try:\n",
    "            date_dt = datetime.strptime(date, '%Y-%m-%d' )\n",
    "        \n",
    "            print(date_dt, 'true')\n",
    "\n",
    "        except:\n",
    "            print(date, 'false')"
   ]
  },
  {
   "cell_type": "code",
   "execution_count": 98,
   "metadata": {
    "scrolled": true
   },
   "outputs": [
    {
     "name": "stdout",
     "output_type": "stream",
     "text": [
      "Дата начала: 2020/02/02\n",
      "Дата конца: 2020-02-03\n",
      "[]\n"
     ]
    }
   ],
   "source": [
    "date_range_new()"
   ]
  },
  {
   "cell_type": "markdown",
   "metadata": {},
   "source": [
    "Задание 3\n",
    "Дан поток дат в формате YYYY-MM-DD, в которых встречаются некорректные значения:\n",
    "stream = [‘2018-04-02’, ‘2018-02-29’, ‘2018-19-02’]\n",
    "\n",
    "Напишите функцию, которая проверяет эти даты на корректность. \n",
    "Т. е. для каждой даты возвращает True (дата корректна) или False (некорректная дата)."
   ]
  },
  {
   "cell_type": "code",
   "execution_count": 101,
   "metadata": {},
   "outputs": [],
   "source": [
    "stream = ['2018-04-02', '2018-02-29', '2018-19-02']"
   ]
  },
  {
   "cell_type": "code",
   "execution_count": 108,
   "metadata": {},
   "outputs": [],
   "source": [
    "def date(stream):\n",
    "    from datetime import datetime\n",
    "    \n",
    "    for date in stream:\n",
    "        try:\n",
    "            date_dt = datetime.strptime(date, '%Y-%m-%d' )\n",
    "        \n",
    "            print(date_dt, 'true')\n",
    "\n",
    "        except:\n",
    "            print(date, 'false')"
   ]
  },
  {
   "cell_type": "code",
   "execution_count": 109,
   "metadata": {},
   "outputs": [
    {
     "name": "stdout",
     "output_type": "stream",
     "text": [
      "2018-04-02 00:00:00 true\n",
      "2018-02-29 false\n",
      "2018-19-02 false\n"
     ]
    }
   ],
   "source": [
    "date(stream)"
   ]
  },
  {
   "cell_type": "markdown",
   "metadata": {},
   "source": [
    "Задание 4 (бонусное)\n",
    "Ваш коллега прислал код функции:\n",
    "\n",
    "\"\"\n",
    "Удаляет из списка default_list последнего пользователя\n",
    "и возвращает ID нового последнего пользователя.\n",
    "\"\"\n",
    "\n",
    "Однако, при повторном вызове получается ошибка IndexError: list index out of range.\n",
    "\n",
    "При однократном вызове этой функции все работает корректно:\n",
    "delete_and_return_last_user(1)\n",
    "‘A101’\n",
    "\n",
    "Что значит ошибка list index out of range?\n",
    "Почему при первом запуске функция работает корректно, а при втором - нет?"
   ]
  },
  {
   "cell_type": "code",
   "execution_count": 151,
   "metadata": {},
   "outputs": [],
   "source": [
    "DEFAULT_USER_COUNT = 3\n",
    "\n",
    "def delete_and_return_last_user(region, default_list=['A100', 'A101', 'A102'):\n",
    "    \n",
    "    element_to_delete = default_list[-1]\n",
    "    default_list.remove(element_to_delete)\n",
    "    \n",
    "    return default_list[DEFAULT_USER_COUNT-2]\n"
   ]
  },
  {
   "cell_type": "code",
   "execution_count": 152,
   "metadata": {},
   "outputs": [
    {
     "data": {
      "text/plain": [
       "'A101'"
      ]
     },
     "execution_count": 152,
     "metadata": {},
     "output_type": "execute_result"
    }
   ],
   "source": [
    "delete_and_return_last_user(1)"
   ]
  },
  {
   "cell_type": "markdown",
   "metadata": {},
   "source": [
    "Ошибка list index out of range означает что нет данных по индексу (к которому мы обращаемся)\n",
    "При второй итерации элемент А101 который имеет индекс 1 в нашем списке будет удален и получается что данных по данному списку не будет. Код в части удаления элемента написан верно, но в части возврата нового последнего пользователя статичен и следовательно не верен. Код можно преобразовать следующем образом. Так же не вижу чтобы переменная region несла какую-то смысловую нагрузку."
   ]
  },
  {
   "cell_type": "code",
   "execution_count": 198,
   "metadata": {},
   "outputs": [],
   "source": [
    "def delete_and_return_last_user(default_list=['A100', 'A101', 'A102', 'A103', 'A104']):\n",
    "    quantity = len(default_list)\n",
    "    element_to_delete = default_list[-1]\n",
    "    default_list.remove(element_to_delete)\n",
    "    \n",
    "    try: \n",
    "        return default_list[quantity-2]\n",
    "    \n",
    "    except:\n",
    "        print('Список пуст')"
   ]
  },
  {
   "cell_type": "code",
   "execution_count": 203,
   "metadata": {},
   "outputs": [
    {
     "name": "stdout",
     "output_type": "stream",
     "text": [
      "Список пуст\n"
     ]
    }
   ],
   "source": [
    "delete_and_return_last_user()"
   ]
  }
 ],
 "metadata": {
  "kernelspec": {
   "display_name": "Python 3",
   "language": "python",
   "name": "python3"
  },
  "language_info": {
   "codemirror_mode": {
    "name": "ipython",
    "version": 3
   },
   "file_extension": ".py",
   "mimetype": "text/x-python",
   "name": "python",
   "nbconvert_exporter": "python",
   "pygments_lexer": "ipython3",
   "version": "3.7.4"
  }
 },
 "nbformat": 4,
 "nbformat_minor": 2
}
